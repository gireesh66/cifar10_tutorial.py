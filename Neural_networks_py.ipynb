{
  "nbformat": 4,
  "nbformat_minor": 0,
  "metadata": {
    "colab": {
      "provenance": [],
      "authorship_tag": "ABX9TyPX20Mg2GtuJcKcPEwLRVDW",
      "include_colab_link": true
    },
    "kernelspec": {
      "name": "python3",
      "display_name": "Python 3"
    },
    "language_info": {
      "name": "python"
    }
  },
  "cells": [
    {
      "cell_type": "markdown",
      "metadata": {
        "id": "view-in-github",
        "colab_type": "text"
      },
      "source": [
        "<a href=\"https://colab.research.google.com/github/gireesh66/cifar10_tutorial.py/blob/main/Neural_networks_py.ipynb\" target=\"_parent\"><img src=\"https://colab.research.google.com/assets/colab-badge.svg\" alt=\"Open In Colab\"/></a>"
      ]
    },
    {
      "cell_type": "code",
      "source": [
        "from re import X\n",
        "import numpy as np\n",
        "\n",
        "\n",
        "x = np.array([[0,0],[0,1],[1,0],[1,1]])\n",
        "y = np.array([[0], [1],[1],[0]])\n",
        "\n",
        "def sigmoid(z):\n",
        "  return 1/ (1 + np.exp(-z))\n",
        "\n",
        "def sigmoid_derivative(z):\n",
        "  return sigmoid(z) * (1 - sigmoid(z))\n",
        "\n",
        "np.random.seed(42)\n",
        "\n",
        "input_size =2\n",
        "hidden_size =3\n",
        "output_size =1\n",
        "\n",
        "w1 =np.random.randn(input_size, hidden_size)\n",
        "b1 =np.zeros((1,hidden_size))\n",
        "\n",
        "w2 =np.random.randn(hidden_size, output_size)\n",
        "b2=np.zeros((1,output_size))\n",
        "\n",
        "\n",
        "lr = 0.1\n",
        "epochs = 10000\n",
        "\n",
        "for epoch in range(epochs):\n",
        "\n",
        "\n",
        "  Z1 =np.dot(x,w1) +b1\n",
        "  A1 = sigmoid(Z1)\n",
        "\n",
        "  Z2 =np.dot(A1,w2) + b2\n",
        "  A2 = sigmoid(Z2)\n",
        "\n",
        "  loss=np.mean((y-A2) ** 2)\n",
        "\n",
        "\n",
        "  dA2 =A2 -y\n",
        "  dZ2 =dA2 * sigmoid_derivative(Z2)\n",
        "  dW2 =np.dot(A1.T,dZ2)\n",
        "  dB2 =np.sum(dZ2,axis=0,keepdims=True)\n",
        "\n",
        "  dA1 =np.dot(dZ2,w2.T)\n",
        "  dZ1 =dA1 * sigmoid_derivative(Z1)\n",
        "  dW1 =np.dot(x.T,dZ1)\n",
        "  db1 =np.sum(dZ1,axis=0,keepdims=True)\n",
        "\n",
        "\n",
        "  w2 -= lr * dW2\n",
        "  b2 -= lr * dB2\n",
        "  w1 -= lr * dW1\n",
        "  b1 -= lr * db1\n",
        "\n",
        "\n",
        "  if epoch % 1000 ==0:\n",
        "    print(f\" Epoch {epoch}, loss :{loss:.4f}\")\n",
        "\n",
        "\n",
        "def predict(x):\n",
        "  Z1 =np.dot(x,w1)+b1\n",
        "  A1 =sigmoid(Z1)\n",
        "  Z2 = np.dot(A1,w2)+b2\n",
        "  A2 =sigmoid(Z2)\n",
        "  return (A2>0.5).astype(int)\n",
        "\n",
        "\n",
        "print(\"/npredictions:\")\n",
        "print(predict(x))"
      ],
      "metadata": {
        "colab": {
          "base_uri": "https://localhost:8080/"
        },
        "id": "KWJBMS3Qkh_9",
        "outputId": "afc02a50-9768-4708-f41d-c0e799b6a877"
      },
      "execution_count": 7,
      "outputs": [
        {
          "output_type": "stream",
          "name": "stdout",
          "text": [
            " Epoch 0, loss :0.3182\n",
            " Epoch 1000, loss :0.2057\n",
            " Epoch 2000, loss :0.1419\n",
            " Epoch 3000, loss :0.0587\n",
            " Epoch 4000, loss :0.0201\n",
            " Epoch 5000, loss :0.0100\n",
            " Epoch 6000, loss :0.0063\n",
            " Epoch 7000, loss :0.0045\n",
            " Epoch 8000, loss :0.0034\n",
            " Epoch 9000, loss :0.0028\n",
            "/npredictions:\n",
            "[[0]\n",
            " [1]\n",
            " [1]\n",
            " [0]]\n"
          ]
        }
      ]
    }
  ]
}